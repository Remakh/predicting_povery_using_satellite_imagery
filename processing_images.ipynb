{
 "cells": [
  {
   "attachments": {},
   "cell_type": "markdown",
   "metadata": {},
   "source": [
    "<h2>Notebook For Downloading and Processing the Images for Training</h2>"
   ]
  },
  {
   "cell_type": "code",
   "execution_count": 1,
   "metadata": {
    "tags": []
   },
   "outputs": [],
   "source": [
    "import os\n",
    "import os.path\n",
    "import itertools\n",
    "import requests\n",
    "from osgeo import gdal\n",
    "import geopy.distance\n",
    "from PIL import Image\n",
    "import math\n",
    "gdal.UseExceptions()\n",
    "import matplotlib.pyplot as plt\n",
    "import pandas as pd\n",
    "import numpy as np\n",
    "import rasterio\n",
    "import re"
   ]
  },
  {
   "attachments": {},
   "cell_type": "markdown",
   "metadata": {},
   "source": [
    "<h3>Read in the cluster data, the raster map data and create a dictionary mapping each cluster number to their respective central coordinates. </h3>"
   ]
  },
  {
   "cell_type": "code",
   "execution_count": 2,
   "metadata": {
    "tags": []
   },
   "outputs": [],
   "source": [
    "cluster_data = pd.read_csv('new_cluster_data_2017.csv')\n",
    "raster_data = rasterio.open('viirs4.tif')\n",
    "lats = cluster_data['latitude'] \n",
    "longs = cluster_data['longitude']\n",
    "all_coordinates = list(zip(lats, longs))\n",
    "nightlight_map = raster_data.read(1)\n",
    "all_coordinates_dict = {k: v for (k, v) in zip(cluster_data['Cluster number'], all_coordinates)}"
   ]
  },
  {
   "attachments": {},
   "cell_type": "markdown",
   "metadata": {},
   "source": [
    "<h3>Various utility functions used throughout this notebook. Descriptions are provided in the doc strings.</h3>"
   ]
  },
  {
   "cell_type": "code",
   "execution_count": 3,
   "metadata": {},
   "outputs": [],
   "source": [
    "def four_sides(center, distance, resolution=0.0001):\n",
    "    \n",
    "    \"\"\"\n",
    "    Four sides will take a given coordinate, which is a tuple with a latitude and longitude, and a distance and return the coordinates of a bounding\n",
    "    box whose sides are twice that distance. For example, if you provide coordinate X and distance 2, it will provide the coordinates of the four corners \n",
    "    of the box such that the coordinate X is at the center and the length of each side is 4. \n",
    "\n",
    "    :param center: The center of the bounding box \n",
    "    :param distance: The length of the sides of the bounding box (divided by two)\n",
    "    :param resolution: The precision of the distance, if it is 0.01 and the distance is 4 for example, the highest length of a given side will be 4.01 and no more\n",
    "\n",
    "    \"\"\"\n",
    "    distance /= 2\n",
    "    latitude, longitude = center\n",
    "    left, right = longitude, longitude\n",
    "    bottom, top = latitude, latitude \n",
    "    current_distance_top, current_distance_right, current_distance_bottom, current_distance_left = 0, 0, 0, 0\n",
    "    \n",
    "    while (current_distance_left <= distance - resolution):\n",
    "        left = left - resolution\n",
    "        current_distance_left = geopy.distance.distance(center, (latitude, left)).km\n",
    "    \n",
    "    while (current_distance_right <= distance - resolution):\n",
    "        right = right + resolution\n",
    "        current_distance_right = geopy.distance.distance(center, (latitude, right)).km\n",
    "\n",
    "    while (current_distance_top <= distance - resolution):\n",
    "        top = top + resolution\n",
    "        current_distance_top = geopy.distance.distance(center, (top, longitude)).km\n",
    "\n",
    "    while (current_distance_bottom <= distance - resolution):\n",
    "        bottom = bottom - resolution\n",
    "        current_distance_bottom = geopy.distance.distance(center, (bottom, longitude)).km\n",
    "\n",
    "    return top, bottom, left, right\n",
    "\n",
    "def four_corners(top, bottom, left, right):\n",
    "    return (top, left), (top, right), (bottom, left), (bottom, right)\n",
    "\n",
    "\n",
    "def clusters_image_coordinates(cluster_coordinates, cluster_numbers, size, squares=5):\n",
    "    \"\"\"\n",
    "        Given a list of coordinates and a distance, this algorithm will return a dictionary mapping each cluster to a list of coordinates equally spaced in \n",
    "        a bounding box around the coordinate center. For each cluster coordinate, this algorithm will assume a bounding box around each and break that bounding \n",
    "        box into a 5x5 grid. For each cluster, a list of 25 coordinates representing the centers of each box in the grid is produced. A dictionary mapping each\n",
    "        cluster to this list of coordinates is returned at the end. \n",
    "\n",
    "        :param cluster_coordinates: list of cluster coordinates whose centers will be used to produce the points\n",
    "        :param cluster_numbers: the numbers of each cluster\n",
    "        :param size: the size of the bounding box around each cluster coordinate\n",
    "    \"\"\"\n",
    "\n",
    "    clusters = {}\n",
    "    for index, coordinates in enumerate(cluster_coordinates):\n",
    "        top, bottom, left, right = four_sides(coordinates, size, 0.0001)\n",
    "        top_left = (top, left)\n",
    "        top_right = (top, right)\n",
    "        bottom_left = (bottom, left)\n",
    "        bottom_right = (bottom, right)\n",
    "        a = np.linspace(top_left, top_right, squares*2+1)[1::2]\n",
    "        b = np.linspace(top_left, bottom_left, squares*2+1)[1::2]\n",
    "        list1 = [i[1] for i in a]\n",
    "        list2 = [i[0] for i in b]\n",
    "        clusters[cluster_numbers[index]] = list(itertools.product(list2, list1))\n",
    "         \n",
    "    return clusters\n",
    "\n",
    "def square_size(zoom, latitude):  \n",
    "    \"\"\"\n",
    "        Function that returns the meters per pixel of a zoom level \n",
    "     \"\"\"\n",
    "    return 156543.03392 * math.cos(latitude * math.pi / 180) / math.pow(2, zoom)\n",
    "\n",
    "def calculate_average_nightlight(nightlights, center, distance):\n",
    "\n",
    "    \"\"\"\n",
    "        Function that calculates the average nightlight around a center by creating a square bounding box around a point with \n",
    "        a set distance as size\n",
    "\n",
    "        :param nightlights: The raster nightlight map data required for the function\n",
    "        :param center: The center of the bounding box\n",
    "        :param distance: The length of the sides of the bounding box \n",
    "    \"\"\"\n",
    "\n",
    "    top, bottom, left, right = four_sides(center, distance)\n",
    "    top_left, top_right, bottom_left, bottom_right = four_corners(top, bottom, left, right)\n",
    "    pix_top_left, pix_top_right, pix_bottom_left, pix_bottom_right = raster_data.index(top_left[1], top_left[0]), raster_data.index(top_right[1], top_right[0]), \\\n",
    "        raster_data.index(bottom_left[1], bottom_left[0]), raster_data.index(bottom_right[1], bottom_right[0])\n",
    "    divisor = (nightlights[pix_top_left[0]:pix_bottom_left[0], pix_top_left[1]:pix_top_right[1]]).shape[0] \\\n",
    "        *(nightlights[pix_top_left[0]:pix_bottom_left[0], pix_top_left[1]:pix_top_right[1]]).shape[1]\n",
    "    \n",
    "    return nightlights[pix_top_left[0]:pix_bottom_left[0], pix_top_left[1]:pix_top_right[1]].sum()/divisor\n",
    "\n",
    "def calculate_std_nightlights(nightlights, center, distance):\n",
    "    \"\"\"\n",
    "        Function that calculates the standard deviation of nightlight around a center by creating a square bounding box around a point with \n",
    "        a set distance as size\n",
    "\n",
    "        :param nightlights: The raster nightlight map data required for the function\n",
    "        :param center: The center of the bounding box\n",
    "        :param distance: The length of the sides of the bounding box \n",
    "    \"\"\"\n",
    "\n",
    "    top, bottom, left, right = four_sides(center, distance)\n",
    "    top_left, top_right, bottom_left, bottom_right = four_corners(top, bottom, left, right)\n",
    "    pix_top_left, pix_top_right, pix_bottom_left, pix_bottom_right = raster_data.index(top_left[1], top_left[0]), raster_data.index(top_right[1], top_right[0]), \\\n",
    "        raster_data.index(bottom_left[1], bottom_left[0]), raster_data.index(bottom_right[1], bottom_right[0])\n",
    "    flattened = nightlights[pix_top_left[0]:pix_bottom_left[0], pix_top_left[1]:pix_top_right[1]].flatten()\n",
    "    return np.std(flattened)\n",
    "\n",
    "\n",
    "def download_images(clusters):\n",
    "    \"\"\"\n",
    "        Function to download images for each cluster\n",
    "        :param cluster: A dictionary mapping cluster number to a list of coordinates.\n",
    "    \n",
    "    \"\"\"\n",
    "    api_key = ''\n",
    "    for key in clusters.keys():\n",
    "        for index, location in enumerate(clusters[key]):\n",
    "            center = location \n",
    "            r = requests.get(f\"https://maps.googleapis.com/maps/api/staticmap?center={center[0]},{center[1]}&format=gif&zoom={17}&size=350x350&key={api_key}&maptype=satellite\")\n",
    "            f = open(f'new_images/image{index}_cluster{key}.png ', 'wb')\n",
    "            f.write(r.content)\n",
    "            f.close()"
   ]
  },
  {
   "attachments": {},
   "cell_type": "markdown",
   "metadata": {},
   "source": [
    "<h3> Processing Coordinates for Major Cities in India and Pakistan and Creating Testing Set</h3>"
   ]
  },
  {
   "cell_type": "code",
   "execution_count": 19,
   "metadata": {},
   "outputs": [],
   "source": [
    "indian_cities = pd.read_csv('in.csv')\n",
    "indian_lats = indian_cities['lat'] \n",
    "indian_longs = indian_cities['lng']\n",
    "indian_coordinates = list(zip(indian_lats, indian_longs))\n",
    "indian_city_names = indian_cities['city']\n",
    "indian_clusters = clusters_image_coordinates(indian_coordinates, indian_city_names, 4.9, 4)"
   ]
  },
  {
   "cell_type": "code",
   "execution_count": 7,
   "metadata": {},
   "outputs": [],
   "source": [
    "pakistan_cities = pd.read_csv('pk.csv')\n",
    "pak_lats = pakistan_cities['lat']\n",
    "pak_longs = pakistan_cities['lng']\n",
    "pak_city_names = pakistan_cities['city']\n",
    "pak_coordinates = list(zip(pak_lats, pak_longs))\n",
    "pak_clusters = clusters_image_coordinates(pak_coordinates, pak_city_names, 4.9, 4)"
   ]
  },
  {
   "cell_type": "code",
   "execution_count": 27,
   "metadata": {},
   "outputs": [],
   "source": [
    "api_key = ''\n",
    "for key in pak_clusters.keys():\n",
    "    for index, location in enumerate(pak_clusters[key]):\n",
    "        center = location \n",
    "        r = requests.get(f\"https://maps.googleapis.com/maps/api/staticmap?center={center[0]},{center[1]}&format=gif&zoom={16}&size=350x350&key={api_key}&maptype=satellite\")\n",
    "        f = open(f'pak_images/image{index}_city{key}.png ', 'wb')\n",
    "        f.write(r.content)\n",
    "        f.close()"
   ]
  },
  {
   "cell_type": "code",
   "execution_count": 14,
   "metadata": {},
   "outputs": [],
   "source": [
    "nightlights_pak_images = {}\n",
    "for i in pak_clusters.keys():\n",
    "    nightlights_pak_images[i] = []\n",
    "    for idx, x in enumerate(pak_clusters[i]):\n",
    "        avg_nightlight_for_image = calculate_average_nightlight(nightlight_map, x, 0.76)        \n",
    "        nightlights_pak_images[i].append((idx, avg_nightlight_for_image))"
   ]
  },
  {
   "cell_type": "code",
   "execution_count": 15,
   "metadata": {},
   "outputs": [],
   "source": [
    "annotated_dict_pak = {}\n",
    "for city in nightlights_pak_images.keys():\n",
    "    city_name = str(city)\n",
    "    for avg_nightlight in nightlights_pak_images[city]:\n",
    "        image_name = str(avg_nightlight[0])\n",
    "        full_name = f\"image{image_name}_city{city_name}.png\"\n",
    "        annotated_dict_pak[full_name] = avg_nightlight[1]\n",
    "    \n",
    "annotated_data_pak = pd.DataFrame(data=annotated_dict_pak.items(), columns=['image name', 'average nightlight'])\n",
    "annotated_data_pak['nightlight bins'] = pd.cut(annotated_data_pak['average nightlight'], [0, 5, 15, 1000000], labels=[0,1,2])\n",
    "annotated_data_pak.to_csv('annotated_data_pak.csv')"
   ]
  },
  {
   "cell_type": "code",
   "execution_count": 16,
   "metadata": {},
   "outputs": [],
   "source": [
    "pak_annotations = annotated_data_pak.copy(deep=True)\n",
    "pak_annotations['nightlight bins'] = pd.cut(pak_annotations['average nightlight'], [0, 5, 15, 100000], labels=[0,1,2])\n",
    "pak_annotations = pak_annotations.loc[:, ['image name', 'nightlight bins']]\n",
    "image_names = os.listdir('pak_images')\n",
    "pak_annotations = pak_annotations[pak_annotations['image name'].isin(image_names)]"
   ]
  },
  {
   "cell_type": "code",
   "execution_count": 20,
   "metadata": {},
   "outputs": [],
   "source": [
    "nightlights_indian_images = {}\n",
    "for i in indian_clusters.keys():\n",
    "    nightlights_indian_images[i] = []\n",
    "    for idx, x in enumerate(indian_clusters[i]):\n",
    "        avg_nightlight_for_image = calculate_average_nightlight(nightlight_map, x, 0.76)        \n",
    "        nightlights_indian_images[i].append((idx, avg_nightlight_for_image))"
   ]
  },
  {
   "cell_type": "code",
   "execution_count": 22,
   "metadata": {},
   "outputs": [],
   "source": [
    "annotated_dict_india = {}\n",
    "for city in nightlights_indian_images.keys():\n",
    "    city_name = str(city)\n",
    "    for avg_nightlight in nightlights_indian_images[city]:\n",
    "        image_name = str(avg_nightlight[0])\n",
    "        full_name = f\"image{image_name}_city{city_name}.png\"\n",
    "        annotated_dict_india[full_name] = avg_nightlight[1]\n",
    "    \n",
    "annotated_data_india = pd.DataFrame(data=annotated_dict_india.items(), columns=['image name', 'average nightlight'])\n",
    "annotated_data_india['nightlight bins'] = pd.cut(annotated_data_india['average nightlight'], [0, 5, 15, 1000000], labels=[0,1,2])\n",
    "annotated_data_india.to_csv('annotated_data_india.csv')"
   ]
  },
  {
   "cell_type": "code",
   "execution_count": 54,
   "metadata": {},
   "outputs": [],
   "source": [
    "api_key = ''\n",
    "for key in indian_clusters.keys():\n",
    "    for index, location in enumerate(indian_clusters[key]):\n",
    "        center = location \n",
    "        r = requests.get(f\"https://maps.googleapis.com/maps/api/staticmap?center={center[0]},{center[1]}&format=gif&zoom={16}&size=350x350&key={api_key}&maptype=satellite\")\n",
    "        f = open(f'indian_images3/image{index}_city{key}.png ', 'wb')\n",
    "        f.write(r.content)\n",
    "        f.close()"
   ]
  },
  {
   "cell_type": "code",
   "execution_count": 23,
   "metadata": {},
   "outputs": [],
   "source": [
    "indian_annotations = annotated_data_india.copy(deep=True)\n",
    "indian_annotations['nightlight bins'] = pd.cut(indian_annotations['average nightlight'], [0, 5, 15, 100000], labels=[0,1,2])\n",
    "indian_annotations = indian_annotations.loc[:, ['image name', 'nightlight bins']]\n",
    "image_names = os.listdir('indian_images2')\n",
    "indian_annotations = indian_annotations[indian_annotations['image name'].isin(image_names)]"
   ]
  },
  {
   "cell_type": "code",
   "execution_count": 24,
   "metadata": {},
   "outputs": [],
   "source": [
    "all_annotations = pd.concat([indian_annotations, pak_annotations]).reset_index(drop=True)"
   ]
  },
  {
   "cell_type": "code",
   "execution_count": 93,
   "metadata": {},
   "outputs": [],
   "source": [
    "all_annotations.to_csv('all_val_annotations.csv', index=False)"
   ]
  },
  {
   "attachments": {},
   "cell_type": "markdown",
   "metadata": {},
   "source": [
    "<h3> Creating the Training Annotations List </h3>"
   ]
  },
  {
   "attachments": {},
   "cell_type": "markdown",
   "metadata": {},
   "source": [
    "Calculate the coordinates surrounding each cluster and calculate the average nightlight around each cluster."
   ]
  },
  {
   "cell_type": "code",
   "execution_count": 4,
   "metadata": {},
   "outputs": [],
   "source": [
    "clusters = clusters_image_coordinates(all_coordinates_dict.values(), list(all_coordinates_dict.keys()), 3.05, 4)"
   ]
  },
  {
   "cell_type": "code",
   "execution_count": 24,
   "metadata": {},
   "outputs": [],
   "source": [
    "average_nightlight_per_cluster = {}\n",
    "for i in list(all_coordinates_dict.keys()): \n",
    "    average_nightlight_per_cluster[i] = calculate_average_nightlight(nightlight_map, all_coordinates_dict[i], 3.05*4)"
   ]
  },
  {
   "attachments": {},
   "cell_type": "markdown",
   "metadata": {},
   "source": [
    "Create new CSV files that contain the average nightlight around each cluster"
   ]
  },
  {
   "cell_type": "code",
   "execution_count": 25,
   "metadata": {},
   "outputs": [],
   "source": [
    "average_nightlight = pd.DataFrame.from_dict(average_nightlight_per_cluster, orient='index', columns=['Average Nightlight'])\n",
    "average_nightlight.index.name = 'Cluster number'\n",
    "clusters_with_nightlight = pd.merge(cluster_data, on='Cluster number', right=average_nightlight)\n",
    "clusters_with_nightlight['nightlight bins'] = pd.cut(clusters_with_nightlight['Average Nightlight'],  [0, 5, 15, 100], labels=[0,1,2])\n",
    "clusters_with_nightlight.to_csv('clusters_with_nightlights_2017.csv', index=False)"
   ]
  },
  {
   "attachments": {},
   "cell_type": "markdown",
   "metadata": {},
   "source": [
    "Calculate the nightlight values of the individual images around each cluster"
   ]
  },
  {
   "cell_type": "code",
   "execution_count": 26,
   "metadata": {},
   "outputs": [],
   "source": [
    "nightlights_all_images = {} \n",
    "for i in clusters.keys():\n",
    "    nightlights_all_images[i] = []\n",
    "    for idx, x in enumerate(clusters[i]):\n",
    "        avg_nightlight_for_image = calculate_average_nightlight(nightlight_map, x, 0.76)        \n",
    "        nightlights_all_images[i].append((idx, avg_nightlight_for_image))"
   ]
  },
  {
   "attachments": {},
   "cell_type": "markdown",
   "metadata": {},
   "source": [
    "Create annotations file that will later be used for training the model "
   ]
  },
  {
   "cell_type": "code",
   "execution_count": 27,
   "metadata": {},
   "outputs": [],
   "source": [
    "annotated_dict = {}\n",
    "for cluster in nightlights_all_images.keys():\n",
    "    cluster_name = str(cluster)\n",
    "    for avg_nightlight in nightlights_all_images[cluster]:\n",
    "        image_name = str(avg_nightlight[0])\n",
    "        full_name = f\"image{image_name}_cluster{cluster_name}.png\"\n",
    "        annotated_dict[full_name] = avg_nightlight[1]\n",
    "annotated_data = pd.DataFrame(data=annotated_dict.items(), columns=['image name', 'average nightlight'])"
   ]
  },
  {
   "cell_type": "code",
   "execution_count": 29,
   "metadata": {},
   "outputs": [
    {
     "data": {
      "text/plain": [
       "0    9250\n",
       "1     950\n",
       "2     552\n",
       "Name: nightlight bins, dtype: int64"
      ]
     },
     "execution_count": 29,
     "metadata": {},
     "output_type": "execute_result"
    }
   ],
   "source": [
    "initial_annotations = annotated_data\n",
    "initial_annotations['nightlight bins'] = pd.cut(initial_annotations['average nightlight'], [0, 5, 15, 1000000], labels=[0,1,2])\n",
    "cluster_no = []\n",
    "for i in initial_annotations['image name']:\n",
    "    cl_no = int(re.search(r'cluster[0-9]+', i)[0][7:])\n",
    "    cluster_no.append(cl_no)\n",
    "initial_annotations['cluster number'] = cluster_no "
   ]
  },
  {
   "cell_type": "code",
   "execution_count": 52,
   "metadata": {},
   "outputs": [],
   "source": [
    "image_coordinate_list = []\n",
    "for i in clusters.keys():\n",
    "    for j in clusters[i]:\n",
    "        image_coordinate_list.append(j)\n",
    "initial_annotations['coordinates'] = image_coordinate_list"
   ]
  },
  {
   "cell_type": "code",
   "execution_count": 66,
   "metadata": {},
   "outputs": [
    {
     "data": {
      "text/plain": [
       "0    9250\n",
       "1     950\n",
       "2     552\n",
       "Name: nightlight bins, dtype: int64"
      ]
     },
     "execution_count": 66,
     "metadata": {},
     "output_type": "execute_result"
    }
   ],
   "source": [
    "new_annotations = initial_annotations.copy(deep=True)\n",
    "new_annotations_dict = new_annotations.to_dict()\n",
    "new_annotations['nightlight bins'].value_counts() "
   ]
  },
  {
   "cell_type": "code",
   "execution_count": 60,
   "metadata": {},
   "outputs": [],
   "source": [
    "new_annotations.loc[:, ['image name', 'nightlight bins']].to_csv('train_annotations.csv', index=False)"
   ]
  }
 ],
 "metadata": {
  "kernelspec": {
   "display_name": "Python 3 (ipykernel)",
   "language": "python",
   "name": "python3"
  },
  "language_info": {
   "codemirror_mode": {
    "name": "ipython",
    "version": 3
   },
   "file_extension": ".py",
   "mimetype": "text/x-python",
   "name": "python",
   "nbconvert_exporter": "python",
   "pygments_lexer": "ipython3",
   "version": "3.10.4"
  },
  "vscode": {
   "interpreter": {
    "hash": "369f2c481f4da34e4445cda3fffd2e751bd1c4d706f27375911949ba6bb62e1c"
   }
  }
 },
 "nbformat": 4,
 "nbformat_minor": 4
}
